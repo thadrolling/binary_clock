{
 "cells": [
  {
   "cell_type": "code",
   "execution_count": 77,
   "id": "81eb2930",
   "metadata": {},
   "outputs": [
    {
     "name": "stdout",
     "output_type": "stream",
     "text": [
      "Enter # between 1 and 127: 3\n",
      "000011\n"
     ]
    }
   ],
   "source": [
    "# This program takes user input number between 1 and 127 and then displays the number in binary\n",
    "import time\n",
    "user_input = input('Enter # between 1 and 127: ')\n",
    "\n",
    "# Next line does a lot of stuff. First, it converts 'user_input' to an int,\n",
    "# then to binary and then back to string. Then, '[2:0]' strips off the leading\n",
    "# '0b' and zfill(6) makes it a 6 bit number. Format of output will look like\n",
    "# 000000, 000001, 000010, etc.\n",
    "user_input_modified = str(bin(int(user_input)))[2:].zfill(6)\n",
    "print(user_input_modified)\n",
    "\n"
   ]
  },
  {
   "cell_type": "code",
   "execution_count": 192,
   "id": "5d22a529",
   "metadata": {},
   "outputs": [
    {
     "name": "stdout",
     "output_type": "stream",
     "text": [
      "time_string =  173746\n",
      "time_binary =  0b101010011010110010\n"
     ]
    }
   ],
   "source": [
    "# this prints the current time as a decimal...looks like as a six digit decimal\n",
    "time_string = time.strftime(\"%H%M%S\") #Change %I to %H to get 24 hour clock!!!\n",
    "print(\"time_string = \", time_string)\n",
    "time_binary = bin(int(time_string))\n",
    "print(\"time_binary = \", time_binary)"
   ]
  },
  {
   "cell_type": "code",
   "execution_count": null,
   "id": "cb91840e",
   "metadata": {},
   "outputs": [],
   "source": []
  },
  {
   "cell_type": "code",
   "execution_count": null,
   "id": "1b94a3da",
   "metadata": {},
   "outputs": [],
   "source": []
  }
 ],
 "metadata": {
  "kernelspec": {
   "display_name": "Python 3",
   "language": "python",
   "name": "python3"
  },
  "language_info": {
   "codemirror_mode": {
    "name": "ipython",
    "version": 3
   },
   "file_extension": ".py",
   "mimetype": "text/x-python",
   "name": "python",
   "nbconvert_exporter": "python",
   "pygments_lexer": "ipython3",
   "version": "3.8.8"
  }
 },
 "nbformat": 4,
 "nbformat_minor": 5
}
